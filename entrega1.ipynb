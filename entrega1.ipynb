{
 "cells": [
  {
   "cell_type": "markdown",
   "metadata": {},
   "source": [
    "> POLITÉCNICO GRANCOLOMBIANO\n",
    "FACULTAD DE INGENIERIA, DISEÑO E INNOVACIÓN\n",
    "INVESTIGACION DE OPERACIONES\n",
    "\n",
    "\n",
    "\n",
    "# **DISEÑO DE CONJUNTO DE INSTRUCCIONES Y MICROARQUITECTURA**\n",
    "\n",
    "#### **ARQUITECTURA DEL COMPUTADOR**\n",
    "\n",
    "#### **Presentado por:**\n",
    "\n",
    "Carlos Andrei Villamil Rueda cod: 100284616\n",
    "\n",
    "Deyssi Catalina Arango Bermúdez cod: 100271305\n",
    "\n",
    "Nelson Alonso Camacho Camacho cod: 100310957\n",
    "\n",
    "Kevin Geovanny Camargo Bautista cod: 2011025769\n",
    "\n",
    "Luis Felipe Álvarez Ospina cod: 100260436\n",
    "\n",
    "\n",
    "#### Tutor: Blanco Ignacio\n",
    "###### *SEPTIEMBRE DE 2022*\n",
    "\n",
    "_____\n",
    "\n",
    "\n",
    "\n",
    "\n",
    "\n",
    "\n"
   ]
  },
  {
   "cell_type": "markdown",
   "metadata": {},
   "source": [
    "### CONTENIDO\n",
    "**1. Objetivos**\n",
    "\n",
    "    1.1 Objetivo General\n",
    "\n",
    "    1.2 Objetivos Específicos\n",
    "    \n",
    "**2. Desarrollo**\n",
    "\n",
    "    2.1 Definición\n",
    "\n",
    "    2.2 Código\n",
    "\n"
   ]
  },
  {
   "cell_type": "markdown",
   "metadata": {},
   "source": [
    "### 1. OBJETIVOS\n",
    "\n",
    "**1.1 OBJETIVO GENERAL**\n",
    "\n",
    "Se debe diseñar el conjunto de instrucciones y la microarquitectura de un procesador que permita determinar si un número es primo o no.\n",
    "\n",
    "**1.2 OBJETIVOS ESPECÍFICOS**\n",
    "\n",
    "* Crear un pseudocódigo o código en lenguaje de alto nivel que determine si un número es primo o no.\n",
    "\n",
    "* Definir qué instrucciones de bajo nivel son requeridas y diseñar el Conjunto de Instrucciones (ISA). \n",
    "\n",
    "* Definir la estructura de hardware mínima para poder ejecutar todas las instrucciones definidas en el conjunto de instrucciones. \n",
    "\n",
    "* Simular la microarquitectura del hardware."
   ]
  },
  {
   "cell_type": "markdown",
   "metadata": {},
   "source": [
    "### 2. DESARROLLO\n",
    "\n",
    "**2.1 DEFINICIÓN**\n",
    "\n",
    "Como sabemos, los números primos son los números naturales mayores que uno que tiene únicamente dos divisores positivos distintos: él mismo y el uno. Para la implementación del código propuesto se utilizó el lenguaje de programación de alto nivel **Python** para validar si un número es primo o no. \n",
    "\n",
    "Para validar si el número ingresado es primo, procedemos a evaluar las siguientes condiciones:\n",
    "\n",
    "\n",
    "* Validar que el número sea mayor a cero.\n",
    "\n",
    "* Validar que el número no sea uno: Debido a que el número uno no se considera primo.\n",
    "\n",
    "* Validar que el número sea dos: Debido a que es el único número par que es primo.\n",
    "\n",
    "* Validar que el número no sea par mayor a dos: Ya que cualquier número par será divisible por el número dos u otro número.\n",
    "\n",
    "* Validar que el número no sea divisible por ningún otro número impar hasta la mitad de este: Debido a que solo los números impares mayores o iguales a 3 pueden ser primos, se procede a verificar si el número ingresado por el usuario es divisible por estos. Esta condición solo se verifica hasta la mitad del número ingresado por el usuario buscando optimizar el procesamiento de estos números.\n"
   ]
  }
 ],
 "metadata": {
  "kernelspec": {
   "display_name": "Python 3.9.7 ('base')",
   "language": "python",
   "name": "python3"
  },
  "language_info": {
   "codemirror_mode": {
    "name": "ipython",
    "version": 3
   },
   "file_extension": ".py",
   "mimetype": "text/x-python",
   "name": "python",
   "nbconvert_exporter": "python",
   "pygments_lexer": "ipython3",
   "version": "3.9.7"
  },
  "orig_nbformat": 4,
  "vscode": {
   "interpreter": {
    "hash": "b61dc30f7fd0e02b2a13da89c62b0c98f72e9b9a4a41e224eb27d0bbb1f5497e"
   }
  }
 },
 "nbformat": 4,
 "nbformat_minor": 2
}
