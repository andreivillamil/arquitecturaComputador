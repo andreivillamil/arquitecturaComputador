{
 "cells": [
  {
   "cell_type": "markdown",
   "metadata": {},
   "source": [
    ">POLITÉCNICO GRANCOLOMBIANO\n",
    ">FACULTAD DE INGENIERIA, DISEÑO E INNOVACIÓN\n",
    "\n",
    "\n",
    "#### **DISEÑO DE CONJUNTO DE INSTRUCCIONES Y MICROARQUITECTURA**\n",
    "\n",
    "#### **ARQUITECTURA DEL COMPUTADOR**\n",
    "\n",
    "#### **Presentado por:**"
   ]
  },
  {
   "cell_type": "markdown",
   "metadata": {},
   "source": [
    "##### Carlos Andrei Villamil Rueda cod: 100284616\n",
    "\n",
    "##### Deyssi Catalina Arango Bermúdez cod: 100271305\n",
    "\n",
    "##### Nelson Alonso Camacho Camacho cod: 100310957\n",
    "\n",
    "##### Kevin Geovanny Camargo Bautista cod: 2011025769\n",
    "\n",
    "##### Luis Felipe Álvarez Ospina cod: 100260436\n"
   ]
  },
  {
   "cell_type": "markdown",
   "metadata": {},
   "source": [
    "\n",
    "#### Tutor: Blanco Ignacio\n"
   ]
  },
  {
   "cell_type": "markdown",
   "metadata": {},
   "source": [
    "<br>"
   ]
  },
  {
   "cell_type": "markdown",
   "metadata": {},
   "source": [
    "\n",
    " *Septiembre de 2022*\n",
    "\n",
    " ___"
   ]
  },
  {
   "cell_type": "markdown",
   "metadata": {},
   "source": [
    "#### CONTENIDO\n",
    "<br>\n"
   ]
  },
  {
   "cell_type": "markdown",
   "metadata": {},
   "source": [
    "\n",
    "##### **1. Objetivos**\n",
    "\n",
    "    1.1 Objetivo General\n",
    "\n",
    "    1.2 Objetivos Específicos\n",
    "    \n",
    "##### **2. Desarrollo**\n",
    "\n",
    "    2.1 Definición\n",
    "\n",
    "    2.2 Código\n",
    "\n"
   ]
  },
  {
   "cell_type": "markdown",
   "metadata": {},
   "source": [
    "<br>\n",
    "<br>"
   ]
  },
  {
   "cell_type": "markdown",
   "metadata": {},
   "source": [
    "#### 1. OBJETIVOS\n",
    "<br>"
   ]
  },
  {
   "cell_type": "markdown",
   "metadata": {},
   "source": [
    "\n",
    "##### **1.1 OBJETIVO GENERAL**\n",
    "\n",
    "Se debe diseñar el conjunto de instrucciones y la microarquitectura de un procesador que permita determinar si un número es primo o no.\n",
    "\n",
    "##### **1.2 OBJETIVOS ESPECÍFICOS**\n",
    "\n",
    "* Crear un pseudocódigo o código en lenguaje de alto nivel que determine si un número es primo o no.\n",
    "\n",
    "* Definir qué instrucciones de bajo nivel son requeridas y diseñar el Conjunto de Instrucciones (ISA). \n",
    "\n",
    "* Definir la estructura de hardware mínima para poder ejecutar todas las instrucciones definidas en el conjunto de instrucciones. \n",
    "\n",
    "* Simular la microarquitectura del hardware."
   ]
  },
  {
   "cell_type": "markdown",
   "metadata": {},
   "source": [
    "<br>\n",
    "<br>"
   ]
  },
  {
   "cell_type": "markdown",
   "metadata": {},
   "source": [
    "#### 2. DESARROLLO\n",
    "<br>\n"
   ]
  },
  {
   "cell_type": "markdown",
   "metadata": {},
   "source": [
    "##### **2.1 DEFINICIÓN**"
   ]
  },
  {
   "cell_type": "markdown",
   "metadata": {},
   "source": [
    "Como sabemos, los números primos son los números naturales mayores que uno que tiene únicamente dos divisores positivos distintos: él mismo y el uno. Para la implementación del código propuesto se utilizó el lenguaje de programación de alto nivel **Python** para validar si un número es primo o no. \n",
    "\n",
    "Para validar si el número ingresado es primo, procedemos a evaluar las siguientes condiciones:\n",
    "\n",
    "\n",
    "* Validar que el número sea mayor a cero.\n",
    "\n",
    "* Validar que el número no sea uno: Debido a que el número uno no se considera primo.\n",
    "\n",
    "* Validar que el número sea dos: Debido a que es el único número par que es primo.\n",
    "\n",
    "* Validar que el número no sea par mayor a dos: Ya que cualquier número par será divisible por el número dos u otro número.\n",
    "\n",
    "* Validar que el número no sea divisible por ningún otro número impar hasta la mitad de este: Debido a que solo los números impares mayores o iguales a 3 pueden ser primos, se procede a verificar si el número ingresado por el usuario es divisible por estos. Esta condición solo se verifica hasta la mitad del número ingresado por el usuario buscando optimizar el procesamiento de estos números.\n"
   ]
  },
  {
   "cell_type": "markdown",
   "metadata": {},
   "source": [
    "##### **2.2 CÓDIGO**\n"
   ]
  },
  {
   "cell_type": "code",
   "execution_count": 5,
   "metadata": {},
   "outputs": [
    {
     "name": "stdout",
     "output_type": "stream",
     "text": [
      "Ingrese un número positivo: 787\n",
      "El número 787 es primo\n"
     ]
    }
   ],
   "source": [
    "#creamos una función para imprimir en pantalla al usuario si el número ingresado no es primo\n",
    "def mostrar_no_es_primo(num_in):\n",
    "    print(f\"El número\", num_in, \"no es primo\")\n",
    "    return\n",
    "\n",
    "#creamos una función para imprimir en pantalla al usuario si el número ingresado es primo\n",
    "def mostrar_es_primo(num_in):\n",
    "    print(f\"El número\", num_in, \"es primo\")\n",
    "    return\n",
    "\n",
    "\"\"\"con esta función podemos validar mediante las condiciones dadas en la definición del \n",
    "algoritmo si el número es primo o no\"\"\"\n",
    "def validar_primo():\n",
    "    #definimos una variable para guardar el número ingresado al sistema\n",
    "    num_in = int(input(\"Ingrese un número positivo: \"))\n",
    "    #validamos que el número sea mayor a cero.\n",
    "    if num_in == 0:\n",
    "        mostrar_no_es_primo(num_in)\n",
    "        return\n",
    "    #validamos que el número no sea uno: Debido a que el número uno no se considera primo.\n",
    "    if num_in == 1:\n",
    "        mostrar_no_es_primo(num_in)\n",
    "        return\n",
    "    #validamos que el número sea dos: Debido a que es el único número par que es primo.\n",
    "    if num_in == 2:\n",
    "        mostrar_es_primo(num_in)\n",
    "        return\n",
    "    \"\"\"Validar que el número no sea par mayor a dos: \n",
    "    Ya que cualquier número par será divisible por el número dos u otro número.\n",
    "    esto lo verificamos con el operador mod % \"\"\"\n",
    "    if num_in % 2 == 0:\n",
    "        mostrar_no_es_primo(num_in)\n",
    "        return\n",
    "        #validamos que el número no sea divisible por ningún otro número impar hasta la mitad de este\n",
    "    mitad = int(num_in/2)\n",
    "    for i in range(3, mitad):\n",
    "        if num_in % i == 0:\n",
    "            #si hay número divisor, mostramos cual es en pantalla\n",
    "            print(f\"El número divisor es:\", i)\n",
    "            mostrar_no_es_primo(num_in)\n",
    "            return\n",
    "    mostrar_es_primo(num_in)\n",
    "    return\n",
    "\n",
    "#hacemos el llamado de la función\n",
    "if __name__ == '__main__':\n",
    "    validar_primo()"
   ]
  },
  {
   "cell_type": "markdown",
   "metadata": {},
   "source": [
    "*Ejemplos con evaluación de otros números para probar el algoritmo:*"
   ]
  },
  {
   "cell_type": "markdown",
   "metadata": {},
   "source": [
    "![prueba de escritorio 1](./prueba1.jpeg \"prueba 1\")"
   ]
  },
  {
   "cell_type": "markdown",
   "metadata": {},
   "source": [
    "![prueba de escritorio 2](./prueba2.jpeg \"prueba 2\")"
   ]
  },
  {
   "cell_type": "markdown",
   "metadata": {},
   "source": [
    "![prueba de escritorio 3](./prueba3.jpeg \"prueba 3\")"
   ]
  },
  {
   "cell_type": "markdown",
   "metadata": {},
   "source": [
    "<hr>\n",
    "<hr>"
   ]
  },
  {
   "cell_type": "markdown",
   "metadata": {},
   "source": [
    "# **ENTREGA PREVIA 2 SEMANA 5**\n",
    "\n",
    "1. Listado de instrucciones detallando por cada una:\n",
    "    a. Nombre, mnemónico, parámetros que recibe.\n",
    "    b. Descripción de una frase indicando qué hace en términos de lo que recibe como parámetro.\n",
    "    c. Ejemplo\n",
    "2. Definición de la cantidad de registros que se usarán y el tamaño de cada registro.\n",
    "3. Descripción breve de los modos de direccionamiento que serán posibles.\n",
    "4. Traducción del programa de alto nivel (entrega 1) al lenguaje ensamblador que han construido, usando su propio conjunto de instrucciones.\n",
    "5. Listado en HEXA del binario que representa el programa realizado en el punto 4 de esta entrega.\n",
    "6. ALU en Logisim, que pueda ejecutar las instrucciones requeridas por el programa. \n",
    "\n",
    "\n",
    "#### **1. Listado de instrucciones**\n",
    "\n",
    "\n",
    "\n",
    "| Cod Ope. | Instrucción | Operandos                   | Comportamiento              | Significado                                          | Ejemplo                        |\n",
    "| -------- | ----------- | --------------------------- | --------------------------- | ---------------------------------------------------- | ------------------------------ |\n",
    "| 0        | OR          | REGDest,REGSource/Inmediato | REGDest <- REGDest or REGOri | Operación OR entre un registro y el acumulador       | or   ax,bx  Equivale a i=iorj  |\n",
    "| 1        | AND         | REGDest,REGSource/Inmediato | REGDest <- REGDest & REGOri | Operación AND entre un registro y el acumulador      | and   ax,bx  Equivale a i=i&&j |\n",
    "| 2        | XOR         | REGDest,REGSource/Inmediato | REGDest <- REGDest ^ REGOri | Operación XOR entre un registro y el acumulador      | xor   ax,bx  Equivale a i=i^j  |\n",
    "| 3        | ADD         | REGDest,REGSource/Inmediato | REGDest <- REGDest + REGOri | Operación SUMA entre un registro y el acumulador     | add   ax,bx  Equivale a i=i+j  |\n",
    "| 4        | SUB         | REGDest,REGSource/Inmediato | REGDest <- REGDest - REGOri | Operación RESTA entre un registro y el acumulador    | sub   ax,bx  Equivale a i=i-j  |\n",
    "| 5        | DIV         | REGDest,REGSource/Inmediato | REGDest <- REGDest / REGOri | Operación DIVISIÓN entre un registro y el acumulador | div   ax,bx  Equivale a i=i/j  |\n",
    "| 6        | MOD         | REGDest,REGSource/Inmediato | REGDest <- REGDest % REGOri | Operación MODULO entre un registro y el acumulador   | mod   ax,bx  Equivale a i=i%j  |\n",
    "| 7        | MOV         | REGDest,REGSource           | REGDest <- REGSource        | Mueve un registro al acumulador                      | mov   ax,bx  #i=j              |\n",
    "| 8        | MOV         | REGDest,Immediato           | REGDest <- Inmediato        | Mueve un inmediato al acumulador                     | mov   ax,1  #i=1               |\n",
    "| 9        | LOAD        | REGDest,REGSource           | REGDest <- MEM\\[REGSource\\] | Transfiere de la Memoria al acumulador.              | load  bx,cx  #j=mem\\[0\\]       |\n",
    "| 10       | STORE       | REGDest,REGSource           | MEM\\[REGDest\\] <- REGSource | Transfiere de al acumulador a la memoria.            | store cx,ax  #mem\\[0\\] = i     |\n",
    "| 11       | JMPZ        | REGDest,Label               |                             | Salta si es 0                                        |                                |\n",
    "| 12       | JMPN        | REGDest,Label               |                             | Salta si es negativo                                 |                                |\n",
    "| 13       | JMPP        | REGDest,Label               |                             | Salta si es positivo                                 |                                |\n",
    "| 14       | HALT        |                             |                             |                                                      |                                |\n",
    "\n",
    "\n",
    "#### **2. Definición de registros**\n",
    "\n",
    "#### **3. Descripción modos de direccionamiento**\n",
    "\n",
    "#### **4. Traducción al lenguaje ensamblador**\n",
    "\n",
    "#### **5. Listado en HEXA del binario**\n",
    "\n",
    "#### **6. ALU en Logisim**\n",
    "\n",
    "<center>\n",
    "<img src=\"alu.png\" width=\"500\" alt=\"alu\" />\n",
    "</center>"
   ]
  },
  {
   "cell_type": "markdown",
   "metadata": {},
   "source": []
  }
 ],
 "metadata": {
  "kernelspec": {
   "display_name": "Python 3.9.2 64-bit",
   "language": "python",
   "name": "python3"
  },
  "language_info": {
   "codemirror_mode": {
    "name": "ipython",
    "version": 3
   },
   "file_extension": ".py",
   "mimetype": "text/x-python",
   "name": "python",
   "nbconvert_exporter": "python",
   "pygments_lexer": "ipython3",
   "version": "3.9.2"
  },
  "vscode": {
   "interpreter": {
    "hash": "c98ef32d72a6aa692c6592b373771b14fd3b866db839f97a71d3f140d5741261"
   }
  }
 },
 "nbformat": 4,
 "nbformat_minor": 4
}
